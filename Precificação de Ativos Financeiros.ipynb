{
 "cells": [
  {
   "cell_type": "code",
   "execution_count": 4,
   "id": "d9bfced4",
   "metadata": {},
   "outputs": [],
   "source": [
    "import numpy as np\n",
    "import pandas as pd\n",
    "from pandas_datareader import data as wb\n",
    "\n",
    "tickers = ['PG', '^GSPC']\n",
    "data = pd.DataFrame()\n",
    "for t in tickers:\n",
    "    data[t] = wb.DataReader(t, data_source = 'yahoo', start='2012-1-1', end='2021-12-31')['Adj Close']"
   ]
  },
  {
   "cell_type": "code",
   "execution_count": 5,
   "id": "84f50381",
   "metadata": {},
   "outputs": [],
   "source": [
    "# interesse na covariancia entre PeG e SP500 + variancia do SP500\n",
    "#trazendo para logaritmo para calcular\n",
    "sec_returns =np.log(data.shift(1))"
   ]
  },
  {
   "cell_type": "code",
   "execution_count": 6,
   "id": "2e83456e",
   "metadata": {},
   "outputs": [
    {
     "data": {
      "text/html": [
       "<div>\n",
       "<style scoped>\n",
       "    .dataframe tbody tr th:only-of-type {\n",
       "        vertical-align: middle;\n",
       "    }\n",
       "\n",
       "    .dataframe tbody tr th {\n",
       "        vertical-align: top;\n",
       "    }\n",
       "\n",
       "    .dataframe thead th {\n",
       "        text-align: right;\n",
       "    }\n",
       "</style>\n",
       "<table border=\"1\" class=\"dataframe\">\n",
       "  <thead>\n",
       "    <tr style=\"text-align: right;\">\n",
       "      <th></th>\n",
       "      <th>PG</th>\n",
       "      <th>^GSPC</th>\n",
       "    </tr>\n",
       "  </thead>\n",
       "  <tbody>\n",
       "    <tr>\n",
       "      <th>PG</th>\n",
       "      <td>24.414764</td>\n",
       "      <td>23.765028</td>\n",
       "    </tr>\n",
       "    <tr>\n",
       "      <th>^GSPC</th>\n",
       "      <td>23.765028</td>\n",
       "      <td>25.849903</td>\n",
       "    </tr>\n",
       "  </tbody>\n",
       "</table>\n",
       "</div>"
      ],
      "text/plain": [
       "              PG      ^GSPC\n",
       "PG     24.414764  23.765028\n",
       "^GSPC  23.765028  25.849903"
      ]
     },
     "execution_count": 6,
     "metadata": {},
     "output_type": "execute_result"
    }
   ],
   "source": [
    "#matriz de covariancia entre PeG e SP500\n",
    "cov = sec_returns.cov() * 250\n",
    "cov"
   ]
  },
  {
   "cell_type": "code",
   "execution_count": 7,
   "id": "f4ec0550",
   "metadata": {},
   "outputs": [
    {
     "data": {
      "text/plain": [
       "23.765027666751394"
      ]
     },
     "execution_count": 7,
     "metadata": {},
     "output_type": "execute_result"
    }
   ],
   "source": [
    "#iloc permite obter a covar entre a ação e o mercado como valor de float\n",
    "cov_with_market = cov.iloc[0,1]\n",
    "cov_with_market"
   ]
  },
  {
   "cell_type": "code",
   "execution_count": 8,
   "id": "3e7265d9",
   "metadata": {},
   "outputs": [
    {
     "data": {
      "text/plain": [
       "25.849902651516835"
      ]
     },
     "execution_count": 8,
     "metadata": {},
     "output_type": "execute_result"
    }
   ],
   "source": [
    "#denominador eh a variancia do mercado anualizada\n",
    "market_var = sec_returns['^GSPC'].var() * 250\n",
    "market_var"
   ]
  },
  {
   "cell_type": "code",
   "execution_count": 9,
   "id": "72286907",
   "metadata": {},
   "outputs": [
    {
     "data": {
      "text/plain": [
       "0.919346892215739"
      ]
     },
     "execution_count": 9,
     "metadata": {},
     "output_type": "execute_result"
    }
   ],
   "source": [
    "#calculo do beta\n",
    "PG_beta = cov_with_market / market_var\n",
    "PG_beta"
   ]
  },
  {
   "cell_type": "code",
   "execution_count": 10,
   "id": "198a4349",
   "metadata": {},
   "outputs": [],
   "source": [
    "# 0 < Beta < 1, PeG é uma ação defensiva, o mercado não tem \"tanta influência\" na ação"
   ]
  },
  {
   "cell_type": "markdown",
   "id": "151d5b6b",
   "metadata": {},
   "source": [
    "### Calculando o Retorno Esperado da P&G (CAPM):\n"
   ]
  },
  {
   "cell_type": "code",
   "execution_count": 11,
   "id": "d7bd1745",
   "metadata": {},
   "outputs": [
    {
     "data": {
      "text/plain": [
       "0.07096734461078695"
      ]
     },
     "execution_count": 11,
     "metadata": {},
     "output_type": "execute_result"
    }
   ],
   "source": [
    "PG_er = 0.025 + PG_beta * 0.05\n",
    "PG_er"
   ]
  },
  {
   "cell_type": "markdown",
   "id": "60b23211",
   "metadata": {},
   "source": [
    "### Indice de Sharpe"
   ]
  },
  {
   "cell_type": "code",
   "execution_count": 12,
   "id": "7c3c339e",
   "metadata": {},
   "outputs": [
    {
     "data": {
      "text/plain": [
       "0.009303002804169205"
      ]
     },
     "execution_count": 12,
     "metadata": {},
     "output_type": "execute_result"
    }
   ],
   "source": [
    "Sharpe = (PG_er - 0.025) / (sec_returns['PG'].std() * 250 ** 0.5)\n",
    "Sharpe"
   ]
  },
  {
   "cell_type": "code",
   "execution_count": null,
   "id": "03c4cdc1",
   "metadata": {},
   "outputs": [],
   "source": []
  }
 ],
 "metadata": {
  "kernelspec": {
   "display_name": "Python 3 (ipykernel)",
   "language": "python",
   "name": "python3"
  },
  "language_info": {
   "codemirror_mode": {
    "name": "ipython",
    "version": 3
   },
   "file_extension": ".py",
   "mimetype": "text/x-python",
   "name": "python",
   "nbconvert_exporter": "python",
   "pygments_lexer": "ipython3",
   "version": "3.9.7"
  }
 },
 "nbformat": 4,
 "nbformat_minor": 5
}
